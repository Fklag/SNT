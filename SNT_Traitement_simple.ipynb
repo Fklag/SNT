{
 "cells": [
  {
   "cell_type": "code",
   "execution_count": null,
   "metadata": {},
   "outputs": [],
   "source": [
    "!pip install matplotlib\n",
    "%matplotlib inline\n",
    "!pip install pandas"
   ]
  },
  {
   "cell_type": "markdown",
   "metadata": {},
   "source": [
    "# Traitement de données"
   ]
  },
  {
   "cell_type": "markdown",
   "metadata": {},
   "source": [
    "Source csv : [https://www.data.gouv.fr/fr/datasets/indices-qualite-de-lair-citeair-journaliers-par-polluant-sur-lile-de-france-les-departements-les-communes-franciliennes-et-les-arrondissements-parisiens/](https://www.data.gouv.fr/fr/datasets/indices-qualite-de-lair-citeair-journaliers-par-polluant-sur-lile-de-france-les-departements-les-communes-franciliennes-et-les-arrondissements-parisiens/)"
   ]
  },
  {
   "cell_type": "markdown",
   "metadata": {},
   "source": [
    "1. Executer le programme et noter le résultat fourni."
   ]
  },
  {
   "cell_type": "code",
   "execution_count": 2,
   "metadata": {
    "scrolled": true
   },
   "outputs": [
    {
     "name": "stdout",
     "output_type": "stream",
     "text": [
      "Moyenne annuelle indice no2 : 33.41208791208791\n"
     ]
    }
   ],
   "source": [
    "f = open(\"indices_QA_commune_IDF_2017.csv\", \"r\")\n",
    "entete = f.readline()\n",
    "s_no2,n = 0,0\n",
    "ligne = f.readline()\n",
    "while ligne != \"\" :\n",
    "    date,ninsee,no2,o3,pm10 = ligne.split(\",\")\n",
    "    if ninsee == '93066' :\n",
    "        n += 1\n",
    "        s_no2 += int(no2)\n",
    "    ligne = f.readline()\n",
    "print(\"Moyenne annuelle indice no2 :\", s_no2/n)\n",
    "f.close()"
   ]
  },
  {
   "cell_type": "markdown",
   "metadata": {},
   "source": [
    "2. Modifier le programme pour qu'il affiche aussi les moyennes annuelles des indices O$_3$ et PM10."
   ]
  },
  {
   "cell_type": "code",
   "execution_count": 4,
   "metadata": {},
   "outputs": [
    {
     "name": "stdout",
     "output_type": "stream",
     "text": [
      "Moyenne annuelle indice no2 : 33.41208791208791\n",
      "Moyenne annuelle indice o3 : 30.27747252747253\n",
      "Moyenne annuelle indice pm10 : 33.032967032967036\n"
     ]
    }
   ],
   "source": [
    "f = open(\"indices_QA_commune_IDF_2017.csv\", \"r\")\n",
    "entete = f.readline()\n",
    "s_no2,s_o3,s_pm10,n = 0,0,0,0\n",
    "ligne = f.readline()\n",
    "while ligne != \"\" :\n",
    "    date,ninsee,no2,o3,pm10 = ligne.split(\",\")\n",
    "    if ninsee == '93066' :\n",
    "        n += 1\n",
    "        s_no2 += int(no2)\n",
    "        s_o3 += int(o3)\n",
    "        s_pm10 += int(pm10)\n",
    "    ligne = f.readline()\n",
    "print(\"Moyenne annuelle indice no2 :\", s_no2/n)\n",
    "print(\"Moyenne annuelle indice o3 :\", s_o3/n)\n",
    "print(\"Moyenne annuelle indice pm10 :\", s_pm10/n)\n",
    "f.close()"
   ]
  },
  {
   "cell_type": "markdown",
   "metadata": {},
   "source": [
    "3. Modifier le programme pour qu'il affiche ces informations pour une autre commune au choix, dont on cherchera le code INSEE."
   ]
  },
  {
   "cell_type": "code",
   "execution_count": 5,
   "metadata": {
    "scrolled": false
   },
   "outputs": [
    {
     "name": "stdout",
     "output_type": "stream",
     "text": [
      "Moyenne annuelle indice no2 : 20.821428571428573\n",
      "Moyenne annuelle indice o3 : 31.03846153846154\n",
      "Moyenne annuelle indice pm10 : 26.521978021978022\n"
     ]
    }
   ],
   "source": [
    "f = open(\"indices_QA_commune_IDF_2017.csv\", \"r\")\n",
    "entete = f.readline()\n",
    "s_no2,s_o3,s_pm10,n = 0,0,0,0\n",
    "ligne = f.readline()\n",
    "while ligne != \"\" :\n",
    "    date,ninsee,no2,o3,pm10 = ligne.split(\",\")\n",
    "    if ninsee == '77288' : #commune de Melun ... Département : Seine-et-Marne \n",
    "        n += 1\n",
    "        s_no2 += int(no2)\n",
    "        s_o3 += int(o3)\n",
    "        s_pm10 += int(pm10)\n",
    "    ligne = f.readline()\n",
    "print(\"Moyenne annuelle indice no2 :\", s_no2/n)\n",
    "print(\"Moyenne annuelle indice o3 :\", s_o3/n)\n",
    "print(\"Moyenne annuelle indice pm10 :\", s_pm10/n)\n",
    "f.close()"
   ]
  }
 ],
 "metadata": {
  "kernelspec": {
   "display_name": "Python 3",
   "language": "python",
   "name": "python3"
  },
  "language_info": {
   "codemirror_mode": {
    "name": "ipython",
    "version": 3
   },
   "file_extension": ".py",
   "mimetype": "text/x-python",
   "name": "python",
   "nbconvert_exporter": "python",
   "pygments_lexer": "ipython3",
   "version": "3.6.1"
  }
 },
 "nbformat": 4,
 "nbformat_minor": 2
}
