{
 "cells": [
  {
   "cell_type": "markdown",
   "metadata": {
    "colab_type": "text",
    "id": "fQFD6mGbMIub"
   },
   "source": [
    "# **SNT - Les données structurées et leur traitement**\n",
    "\n",
    "![TitanA](http://lycee.lagrave.free.fr/SNTdata/TP/actitanic.png)"
   ]
  },
  {
   "cell_type": "markdown",
   "metadata": {
    "colab_type": "text",
    "id": "My2uwQok3V45"
   },
   "source": [
    "\n",
    "# Partie A\n",
    "\n",
    "\n",
    "*   **le tri**\n",
    "  * ordonner les objets selon l'un de leur descripteur ;\n",
    "  * sur plusieurs critères ;\n",
    "  * tri sur des valeurs textuelles.\n",
    "*  **le filtre**\n",
    "  * ne retenir que les objets pour lesquels un critère est vérifié ;\n",
    "  * combiner les critères : et/ou. \n",
    "*  **le calcul individuel**\n",
    "*  **le calcul agrégatif**\n",
    "  * faire un calcul sur plusieurs des objets (tous ou une sélection).\n",
    "  \n",
    "Pour les questions $2$ à $8$ quelques réponses en images (*à \"afficher\" pour agrandir*) en appliquant des filtres/tris adaptés :\n",
    "\n",
    "**2. Combien de personnes étaient âgées de $10$ ans ?**\n",
    "![excel1](http://lycee.lagrave.free.fr/SNTdata/TP/excel1.png)\n",
    "\n",
    "**3. Quel est le prix du billet le plus élevé ?**\n",
    "![excel2](http://lycee.lagrave.free.fr/SNTdata/TP/excel2.png)\n",
    "\n",
    "**4. Combien de femmes en $1$-ère classe voyageaient sur le Titanic ?**\n",
    "\n",
    "![excel30](http://lycee.lagrave.free.fr/SNTdata/TP/excel30.png)\n",
    "\n",
    "**Quel âge pour la plus jeune ?**\n",
    "\n",
    "![excel3](http://lycee.lagrave.free.fr/SNTdata/TP/excel4.png)\n",
    "\n",
    "**Pour la plus âgée ?**\n",
    "![excel4](http://lycee.lagrave.free.fr/SNTdata/TP/excel3.png)\n",
    "\n",
    "**5. En considérant que l'on est enfant lorsqu'on a moins de $18$ ans, déterminer le nombre de\n",
    "femmes et d'enfants qui ont survécu.**\n",
    "\n",
    "**Que penser alors de l'adage \"les femmes et les enfants d'abord\" ?**\n",
    "![excel5](http://lycee.lagrave.free.fr/SNTdata/TP/excel5.png)\n",
    "\n",
    "**6. Quel est le tarif moyen du billet des personnes qui voyageaient en $1$-ère classe ?**\n",
    "![excel6](http://lycee.lagrave.free.fr/SNTdata/TP/excel6.png)\n",
    "\n",
    "**7. Quelle est la moyenne d'âge des personnes qui voyageaient en $3$-ème classe ?**\n",
    "![excel7](http://lycee.lagrave.free.fr/SNTdata/TP/excel7.png)\n",
    "\n",
    "**8. Indiquer selon le genre des personnes de chaque classe, la fréquence du descripteur\n",
    "\"Survivant\".**\n",
    "![excel8](http://lycee.lagrave.free.fr/SNTdata/TP/excel8.png)\n",
    "\n",
    "Voir le fichier en ligne : [excel](https://acnicefr-my.sharepoint.com/:x:/g/personal/franck_lagrave_ac-nice_fr/EQou8zOTLWhBnVbAehDJqFABF_KCEfrH2bbR8yp1DWqElg?rtime=9wWHBEDa1kg)"
   ]
  },
  {
   "cell_type": "markdown",
   "metadata": {},
   "source": [
    "# Partie B"
   ]
  },
  {
   "cell_type": "code",
   "execution_count": null,
   "metadata": {
    "colab": {},
    "colab_type": "code",
    "id": "8eexXBGvtPmw"
   },
   "outputs": [],
   "source": [
    "!pip install matplotlib\n",
    "%matplotlib inline\n",
    "!pip install pandas"
   ]
  },
  {
   "cell_type": "markdown",
   "metadata": {
    "colab_type": "text",
    "id": "s1z817sntYfO"
   },
   "source": [
    "![TitanB](http://lycee.lagrave.free.fr/SNTdata/TP/actitanic2.png)"
   ]
  },
  {
   "cell_type": "code",
   "execution_count": 2,
   "metadata": {
    "colab": {},
    "colab_type": "code",
    "id": "wpNvNPYutkXW"
   },
   "outputs": [],
   "source": [
    "import pandas\n",
    "data=pandas.read_csv('titanic.csv',sep=';')"
   ]
  },
  {
   "cell_type": "markdown",
   "metadata": {
    "colab_type": "text",
    "id": "HRBKUjoktzzs"
   },
   "source": [
    "**1. Instruction $\\texttt{data.head()}$**"
   ]
  },
  {
   "cell_type": "code",
   "execution_count": 3,
   "metadata": {
    "colab": {},
    "colab_type": "code",
    "id": "4H5MrLDWt-ef"
   },
   "outputs": [
    {
     "data": {
      "text/html": [
       "<div>\n",
       "<style>\n",
       "    .dataframe thead tr:only-child th {\n",
       "        text-align: right;\n",
       "    }\n",
       "\n",
       "    .dataframe thead th {\n",
       "        text-align: left;\n",
       "    }\n",
       "\n",
       "    .dataframe tbody tr th {\n",
       "        vertical-align: top;\n",
       "    }\n",
       "</style>\n",
       "<table border=\"1\" class=\"dataframe\">\n",
       "  <thead>\n",
       "    <tr style=\"text-align: right;\">\n",
       "      <th></th>\n",
       "      <th>classe</th>\n",
       "      <th>survie</th>\n",
       "      <th>nom</th>\n",
       "      <th>sexe</th>\n",
       "      <th>age</th>\n",
       "      <th>tarif</th>\n",
       "    </tr>\n",
       "  </thead>\n",
       "  <tbody>\n",
       "    <tr>\n",
       "      <th>0</th>\n",
       "      <td>1</td>\n",
       "      <td>1</td>\n",
       "      <td>Allen, Miss. Elisabeth Walton</td>\n",
       "      <td>2</td>\n",
       "      <td>29.0</td>\n",
       "      <td>211.0</td>\n",
       "    </tr>\n",
       "    <tr>\n",
       "      <th>1</th>\n",
       "      <td>1</td>\n",
       "      <td>1</td>\n",
       "      <td>Allison, Master. Hudson Trevor</td>\n",
       "      <td>1</td>\n",
       "      <td>1.0</td>\n",
       "      <td>152.0</td>\n",
       "    </tr>\n",
       "    <tr>\n",
       "      <th>2</th>\n",
       "      <td>1</td>\n",
       "      <td>0</td>\n",
       "      <td>Allison, Miss. Helen Loraine</td>\n",
       "      <td>2</td>\n",
       "      <td>2.0</td>\n",
       "      <td>152.0</td>\n",
       "    </tr>\n",
       "    <tr>\n",
       "      <th>3</th>\n",
       "      <td>1</td>\n",
       "      <td>0</td>\n",
       "      <td>Allison, Mr. Hudson Joshua Creighton</td>\n",
       "      <td>1</td>\n",
       "      <td>30.0</td>\n",
       "      <td>152.0</td>\n",
       "    </tr>\n",
       "    <tr>\n",
       "      <th>4</th>\n",
       "      <td>1</td>\n",
       "      <td>0</td>\n",
       "      <td>Allison, Mrs. Hudson Bessie Waldo Daniels</td>\n",
       "      <td>2</td>\n",
       "      <td>25.0</td>\n",
       "      <td>152.0</td>\n",
       "    </tr>\n",
       "  </tbody>\n",
       "</table>\n",
       "</div>"
      ],
      "text/plain": [
       "   classe  survie                                        nom  sexe   age  \\\n",
       "0       1       1              Allen, Miss. Elisabeth Walton     2  29.0   \n",
       "1       1       1             Allison, Master. Hudson Trevor     1   1.0   \n",
       "2       1       0               Allison, Miss. Helen Loraine     2   2.0   \n",
       "3       1       0       Allison, Mr. Hudson Joshua Creighton     1  30.0   \n",
       "4       1       0  Allison, Mrs. Hudson Bessie Waldo Daniels     2  25.0   \n",
       "\n",
       "   tarif  \n",
       "0  211.0  \n",
       "1  152.0  \n",
       "2  152.0  \n",
       "3  152.0  \n",
       "4  152.0  "
      ]
     },
     "execution_count": 3,
     "metadata": {},
     "output_type": "execute_result"
    }
   ],
   "source": [
    "data.head()"
   ]
  },
  {
   "cell_type": "markdown",
   "metadata": {
    "colab_type": "text",
    "id": "I6yRswxxuDZd"
   },
   "source": [
    "**1. Instruction $\\texttt{data.shape}$**\n"
   ]
  },
  {
   "cell_type": "code",
   "execution_count": 4,
   "metadata": {
    "colab": {},
    "colab_type": "code",
    "id": "7bXn0phguTEd"
   },
   "outputs": [
    {
     "data": {
      "text/plain": [
       "(1309, 6)"
      ]
     },
     "execution_count": 4,
     "metadata": {},
     "output_type": "execute_result"
    }
   ],
   "source": [
    "data.shape"
   ]
  },
  {
   "cell_type": "markdown",
   "metadata": {
    "colab_type": "text",
    "id": "ijiol3V_uo9y"
   },
   "source": [
    "**1. Instruction $\\texttt{data.dtypes}$**"
   ]
  },
  {
   "cell_type": "code",
   "execution_count": 5,
   "metadata": {
    "colab": {
     "base_uri": "https://localhost:8080/",
     "height": 395
    },
    "colab_type": "code",
    "id": "5F_1LygXuqHu",
    "outputId": "c0ddf66c-8a08-47d6-d20f-3ac12358d0c3"
   },
   "outputs": [
    {
     "data": {
      "text/plain": [
       "classe      int64\n",
       "survie      int64\n",
       "nom        object\n",
       "sexe        int64\n",
       "age       float64\n",
       "tarif     float64\n",
       "dtype: object"
      ]
     },
     "execution_count": 5,
     "metadata": {},
     "output_type": "execute_result"
    }
   ],
   "source": [
    "data.dtypes"
   ]
  },
  {
   "cell_type": "markdown",
   "metadata": {},
   "source": [
    "**2. Exécuter la commande $\\texttt{data.describe()}$ Quel est le prix moyen du billet ?**"
   ]
  },
  {
   "cell_type": "code",
   "execution_count": 6,
   "metadata": {},
   "outputs": [
    {
     "data": {
      "text/html": [
       "<div>\n",
       "<style>\n",
       "    .dataframe thead tr:only-child th {\n",
       "        text-align: right;\n",
       "    }\n",
       "\n",
       "    .dataframe thead th {\n",
       "        text-align: left;\n",
       "    }\n",
       "\n",
       "    .dataframe tbody tr th {\n",
       "        vertical-align: top;\n",
       "    }\n",
       "</style>\n",
       "<table border=\"1\" class=\"dataframe\">\n",
       "  <thead>\n",
       "    <tr style=\"text-align: right;\">\n",
       "      <th></th>\n",
       "      <th>classe</th>\n",
       "      <th>survie</th>\n",
       "      <th>sexe</th>\n",
       "      <th>age</th>\n",
       "      <th>tarif</th>\n",
       "    </tr>\n",
       "  </thead>\n",
       "  <tbody>\n",
       "    <tr>\n",
       "      <th>count</th>\n",
       "      <td>1309.000000</td>\n",
       "      <td>1309.000000</td>\n",
       "      <td>1309.000000</td>\n",
       "      <td>1046.000000</td>\n",
       "      <td>1308.000000</td>\n",
       "    </tr>\n",
       "    <tr>\n",
       "      <th>mean</th>\n",
       "      <td>2.294882</td>\n",
       "      <td>0.381971</td>\n",
       "      <td>1.355997</td>\n",
       "      <td>29.897706</td>\n",
       "      <td>33.363150</td>\n",
       "    </tr>\n",
       "    <tr>\n",
       "      <th>std</th>\n",
       "      <td>0.837836</td>\n",
       "      <td>0.486055</td>\n",
       "      <td>0.478997</td>\n",
       "      <td>14.414973</td>\n",
       "      <td>51.751529</td>\n",
       "    </tr>\n",
       "    <tr>\n",
       "      <th>min</th>\n",
       "      <td>1.000000</td>\n",
       "      <td>0.000000</td>\n",
       "      <td>1.000000</td>\n",
       "      <td>0.000000</td>\n",
       "      <td>0.000000</td>\n",
       "    </tr>\n",
       "    <tr>\n",
       "      <th>25%</th>\n",
       "      <td>2.000000</td>\n",
       "      <td>0.000000</td>\n",
       "      <td>1.000000</td>\n",
       "      <td>21.000000</td>\n",
       "      <td>8.000000</td>\n",
       "    </tr>\n",
       "    <tr>\n",
       "      <th>50%</th>\n",
       "      <td>3.000000</td>\n",
       "      <td>0.000000</td>\n",
       "      <td>1.000000</td>\n",
       "      <td>28.000000</td>\n",
       "      <td>14.000000</td>\n",
       "    </tr>\n",
       "    <tr>\n",
       "      <th>75%</th>\n",
       "      <td>3.000000</td>\n",
       "      <td>1.000000</td>\n",
       "      <td>2.000000</td>\n",
       "      <td>39.000000</td>\n",
       "      <td>31.000000</td>\n",
       "    </tr>\n",
       "    <tr>\n",
       "      <th>max</th>\n",
       "      <td>3.000000</td>\n",
       "      <td>1.000000</td>\n",
       "      <td>2.000000</td>\n",
       "      <td>80.000000</td>\n",
       "      <td>512.000000</td>\n",
       "    </tr>\n",
       "  </tbody>\n",
       "</table>\n",
       "</div>"
      ],
      "text/plain": [
       "            classe       survie         sexe          age        tarif\n",
       "count  1309.000000  1309.000000  1309.000000  1046.000000  1308.000000\n",
       "mean      2.294882     0.381971     1.355997    29.897706    33.363150\n",
       "std       0.837836     0.486055     0.478997    14.414973    51.751529\n",
       "min       1.000000     0.000000     1.000000     0.000000     0.000000\n",
       "25%       2.000000     0.000000     1.000000    21.000000     8.000000\n",
       "50%       3.000000     0.000000     1.000000    28.000000    14.000000\n",
       "75%       3.000000     1.000000     2.000000    39.000000    31.000000\n",
       "max       3.000000     1.000000     2.000000    80.000000   512.000000"
      ]
     },
     "execution_count": 6,
     "metadata": {},
     "output_type": "execute_result"
    }
   ],
   "source": [
    "data.describe()"
   ]
  },
  {
   "cell_type": "markdown",
   "metadata": {},
   "source": [
    "**3 -2. Combien de personnes étaient âgées de $10$ ans ?**"
   ]
  },
  {
   "cell_type": "code",
   "execution_count": 7,
   "metadata": {},
   "outputs": [
    {
     "data": {
      "text/plain": [
       "count    1046.000000\n",
       "mean       29.897706\n",
       "std        14.414973\n",
       "min         0.000000\n",
       "25%        21.000000\n",
       "50%        28.000000\n",
       "75%        39.000000\n",
       "max        80.000000\n",
       "Name: age, dtype: float64"
      ]
     },
     "execution_count": 7,
     "metadata": {},
     "output_type": "execute_result"
    }
   ],
   "source": [
    "data['age'].describe() # remarque : pour statistiques descriptives "
   ]
  },
  {
   "cell_type": "code",
   "execution_count": 8,
   "metadata": {},
   "outputs": [
    {
     "data": {
      "text/html": [
       "<div>\n",
       "<style>\n",
       "    .dataframe thead tr:only-child th {\n",
       "        text-align: right;\n",
       "    }\n",
       "\n",
       "    .dataframe thead th {\n",
       "        text-align: left;\n",
       "    }\n",
       "\n",
       "    .dataframe tbody tr th {\n",
       "        vertical-align: top;\n",
       "    }\n",
       "</style>\n",
       "<table border=\"1\" class=\"dataframe\">\n",
       "  <thead>\n",
       "    <tr style=\"text-align: right;\">\n",
       "      <th></th>\n",
       "      <th>classe</th>\n",
       "      <th>survie</th>\n",
       "      <th>nom</th>\n",
       "      <th>sexe</th>\n",
       "      <th>age</th>\n",
       "      <th>tarif</th>\n",
       "    </tr>\n",
       "  </thead>\n",
       "  <tbody>\n",
       "    <tr>\n",
       "      <th>828</th>\n",
       "      <td>3</td>\n",
       "      <td>0</td>\n",
       "      <td>Goodwin, Miss. Jessie Allis</td>\n",
       "      <td>2</td>\n",
       "      <td>10.0</td>\n",
       "      <td>47.0</td>\n",
       "    </tr>\n",
       "    <tr>\n",
       "      <th>1141</th>\n",
       "      <td>3</td>\n",
       "      <td>0</td>\n",
       "      <td>Rice, Master. Albert</td>\n",
       "      <td>1</td>\n",
       "      <td>10.0</td>\n",
       "      <td>29.0</td>\n",
       "    </tr>\n",
       "    <tr>\n",
       "      <th>1207</th>\n",
       "      <td>3</td>\n",
       "      <td>0</td>\n",
       "      <td>Skoog, Master. Karl Thorsten</td>\n",
       "      <td>1</td>\n",
       "      <td>10.0</td>\n",
       "      <td>28.0</td>\n",
       "    </tr>\n",
       "    <tr>\n",
       "      <th>1265</th>\n",
       "      <td>3</td>\n",
       "      <td>0</td>\n",
       "      <td>Van Impe, Miss. Catharina</td>\n",
       "      <td>2</td>\n",
       "      <td>10.0</td>\n",
       "      <td>24.0</td>\n",
       "    </tr>\n",
       "  </tbody>\n",
       "</table>\n",
       "</div>"
      ],
      "text/plain": [
       "      classe  survie                           nom  sexe   age  tarif\n",
       "828        3       0   Goodwin, Miss. Jessie Allis     2  10.0   47.0\n",
       "1141       3       0          Rice, Master. Albert     1  10.0   29.0\n",
       "1207       3       0  Skoog, Master. Karl Thorsten     1  10.0   28.0\n",
       "1265       3       0     Van Impe, Miss. Catharina     2  10.0   24.0"
      ]
     },
     "execution_count": 8,
     "metadata": {},
     "output_type": "execute_result"
    }
   ],
   "source": [
    "data.query('age == 10')\n",
    "#data.loc[data['age']==10,:]\n",
    "##liste individus avec #lignes => filtre age=10 #colonnes = : (toutes les colonnes)"
   ]
  },
  {
   "cell_type": "code",
   "execution_count": 9,
   "metadata": {},
   "outputs": [
    {
     "data": {
      "text/plain": [
       "4"
      ]
     },
     "execution_count": 9,
     "metadata": {},
     "output_type": "execute_result"
    }
   ],
   "source": [
    "data.query('age == 10').shape[0]\n",
    "#(data['age']==10).value_counts() #denombrement par booleen"
   ]
  },
  {
   "cell_type": "markdown",
   "metadata": {},
   "source": [
    "**3 -3. Quel est le prix du billet le plus élevé ?**"
   ]
  },
  {
   "cell_type": "code",
   "execution_count": 10,
   "metadata": {},
   "outputs": [
    {
     "data": {
      "text/plain": [
       "512.0"
      ]
     },
     "execution_count": 10,
     "metadata": {},
     "output_type": "execute_result"
    }
   ],
   "source": [
    "#data['tarif'].describe() # remarque : pour statistiques descriptives \n",
    "data['tarif'].max()"
   ]
  },
  {
   "cell_type": "code",
   "execution_count": 11,
   "metadata": {},
   "outputs": [
    {
     "data": {
      "text/plain": [
       "classe                              3\n",
       "survie                              1\n",
       "nom       van Melkebeke, Mr. Philemon\n",
       "sexe                                2\n",
       "age                                80\n",
       "tarif                             512\n",
       "dtype: object"
      ]
     },
     "execution_count": 11,
     "metadata": {},
     "output_type": "execute_result"
    }
   ],
   "source": [
    "#Par defaut axis = 0 ==> chaque colonne sera transmise à la fonction\n",
    "#on peut aussi calculer sur les lignes plutôt que les colonnes :\n",
    "#data.apply(lambda x: x.max(), axis = 1)\n",
    "#la selection select_dtypes() permet d'exclure les variables non numériques\n",
    "#data.select_dtypes(exclude=['object']).apply(lambda x: x.max(), axis = 1)\n",
    "data.apply(lambda x: x.max()) \n",
    "# (apply prend une fonction qui prend en argument une série) ; ici calcul aggrégat"
   ]
  },
  {
   "cell_type": "markdown",
   "metadata": {},
   "source": [
    "**4. Combien de femmes en $1$-ère classe voyageaient sur le Titanic ?\n",
    "Quel âge pour la plus jeune ? Pour la plus âgée ?**"
   ]
  },
  {
   "cell_type": "code",
   "execution_count": 12,
   "metadata": {},
   "outputs": [
    {
     "data": {
      "text/plain": [
       "144"
      ]
     },
     "execution_count": 12,
     "metadata": {},
     "output_type": "execute_result"
    }
   ],
   "source": [
    "data.query('sexe==2 and classe==1').shape[0]"
   ]
  },
  {
   "cell_type": "code",
   "execution_count": 13,
   "metadata": {},
   "outputs": [
    {
     "data": {
      "text/plain": [
       "2.0"
      ]
     },
     "execution_count": 13,
     "metadata": {},
     "output_type": "execute_result"
    }
   ],
   "source": [
    "data.query('sexe==2 and classe==1')['age'].min()"
   ]
  },
  {
   "cell_type": "code",
   "execution_count": 14,
   "metadata": {},
   "outputs": [
    {
     "data": {
      "text/plain": [
       "76.0"
      ]
     },
     "execution_count": 14,
     "metadata": {},
     "output_type": "execute_result"
    }
   ],
   "source": [
    "data.query('sexe==2 and classe==1')['age'].max()"
   ]
  },
  {
   "cell_type": "code",
   "execution_count": 15,
   "metadata": {},
   "outputs": [
    {
     "name": "stdout",
     "output_type": "stream",
     "text": [
      "Combien de femmes en 1-ère classe voyageaient sur le Titanic ?  144\n",
      "Quel âge pour la plus jeune ?  2.0\n",
      "Quel âge pour la plus âgée  ?  76.0\n"
     ]
    }
   ],
   "source": [
    "groupe1=data.groupby('sexe') #scission des donnees selon le sexe\n",
    "\n",
    "#calculer la dimension du sous-DataFrame associé aux femmmes\n",
    "#print(groupe1.get_group(2).shape)\n",
    "\n",
    "groupe2=data.groupby(['sexe','classe']) #scission des donnees selon le sexe et la classe\n",
    "#groupe2.min()\n",
    "#groupe2.get_group((2,1))\n",
    "print(\"Combien de femmes en 1-ère classe voyageaient sur le Titanic ? \",\n",
    "      groupe2.get_group((2,1)).shape[0])\n",
    "print(\"Quel âge pour la plus jeune ? \",groupe2.get_group((2,1))['age'].min())\n",
    "print(\"Quel âge pour la plus âgée  ? \",groupe2.get_group((2,1))['age'].max())"
   ]
  },
  {
   "cell_type": "markdown",
   "metadata": {},
   "source": [
    "**5. En considérant que l'on est enfant lorsqu'on a moins de $18$ ans, déterminer le nombre de\n",
    "femmes et d'enfants qui ont survécu.**\n",
    "\n",
    "**Que penser alors de l'adage \"les femmes et les enfants d'abord\" ?**"
   ]
  },
  {
   "cell_type": "code",
   "execution_count": 16,
   "metadata": {},
   "outputs": [
    {
     "data": {
      "text/plain": [
       "370"
      ]
     },
     "execution_count": 16,
     "metadata": {},
     "output_type": "execute_result"
    }
   ],
   "source": [
    "#data.shape[0]\n",
    "#data.query('survie==1').shape[0]\n",
    "data.query('survie==1 and (sexe==2 or age < 18)').shape[0] #!= 396\n",
    "\n",
    "#data.query('survie==1').isnull().sum()\n",
    "\n",
    "  "
   ]
  },
  {
   "cell_type": "code",
   "execution_count": 17,
   "metadata": {},
   "outputs": [
    {
     "data": {
      "text/html": [
       "<div>\n",
       "<style>\n",
       "    .dataframe thead tr:only-child th {\n",
       "        text-align: right;\n",
       "    }\n",
       "\n",
       "    .dataframe thead th {\n",
       "        text-align: left;\n",
       "    }\n",
       "\n",
       "    .dataframe tbody tr th {\n",
       "        vertical-align: top;\n",
       "    }\n",
       "</style>\n",
       "<table border=\"1\" class=\"dataframe\">\n",
       "  <thead>\n",
       "    <tr style=\"text-align: right;\">\n",
       "      <th>sexe</th>\n",
       "      <th>1</th>\n",
       "      <th>2</th>\n",
       "      <th>All</th>\n",
       "    </tr>\n",
       "    <tr>\n",
       "      <th>survie</th>\n",
       "      <th></th>\n",
       "      <th></th>\n",
       "      <th></th>\n",
       "    </tr>\n",
       "  </thead>\n",
       "  <tbody>\n",
       "    <tr>\n",
       "      <th>0</th>\n",
       "      <td>682</td>\n",
       "      <td>127</td>\n",
       "      <td>809</td>\n",
       "    </tr>\n",
       "    <tr>\n",
       "      <th>1</th>\n",
       "      <td>161</td>\n",
       "      <td>339</td>\n",
       "      <td>500</td>\n",
       "    </tr>\n",
       "    <tr>\n",
       "      <th>All</th>\n",
       "      <td>843</td>\n",
       "      <td>466</td>\n",
       "      <td>1309</td>\n",
       "    </tr>\n",
       "  </tbody>\n",
       "</table>\n",
       "</div>"
      ],
      "text/plain": [
       "sexe      1    2   All\n",
       "survie                \n",
       "0       682  127   809\n",
       "1       161  339   500\n",
       "All     843  466  1309"
      ]
     },
     "execution_count": 17,
     "metadata": {},
     "output_type": "execute_result"
    }
   ],
   "source": [
    "pandas.crosstab(data[\"survie\"],data[\"sexe\"],margins=True)\n",
    "#pandas.crosstab(data[\"survie\"],data[\"sexe\"],margins=True).iat[1,1] #valeur lig 1 et col 1,\n",
    "#data.query('survie==1 and sexe==1 and age < 18').shape[0]\n",
    "#data['age'].max()\n",
    "#age_groups = pandas.cut(data['age'], bins=[0, 17, 80]) # creer 2 groupes age : (0, 17] et (17, 80]\n",
    "#pandas.crosstab(age_groups, data['survie'],margins=True) # Total != valeurs age manquantes"
   ]
  },
  {
   "cell_type": "code",
   "execution_count": null,
   "metadata": {},
   "outputs": [],
   "source": []
  },
  {
   "cell_type": "markdown",
   "metadata": {},
   "source": [
    "**6. Quel est le tarif moyen du billet des personnes qui voyageaient en $1$-ère classe ?**"
   ]
  },
  {
   "cell_type": "code",
   "execution_count": 19,
   "metadata": {},
   "outputs": [
    {
     "data": {
      "text/plain": [
       "87.59442724458205"
      ]
     },
     "execution_count": 19,
     "metadata": {},
     "output_type": "execute_result"
    }
   ],
   "source": [
    "data.query('classe==1')['tarif'].mean()"
   ]
  },
  {
   "cell_type": "markdown",
   "metadata": {},
   "source": [
    "**7. Quelle est la moyenne d'âge des personnes qui voyageaient en $3$-ème classe ?**"
   ]
  },
  {
   "cell_type": "code",
   "execution_count": 20,
   "metadata": {},
   "outputs": [
    {
     "data": {
      "text/plain": [
       "24.842315369261478"
      ]
     },
     "execution_count": 20,
     "metadata": {},
     "output_type": "execute_result"
    }
   ],
   "source": [
    "data.query('classe==3')['age'].mean()"
   ]
  },
  {
   "cell_type": "markdown",
   "metadata": {},
   "source": [
    "**8. Indiquer selon le genre des personnes de chaque classe, la fréquence du descripteur\n",
    "\"Survivant\".**"
   ]
  },
  {
   "cell_type": "code",
   "execution_count": 21,
   "metadata": {},
   "outputs": [
    {
     "name": "stdout",
     "output_type": "stream",
     "text": [
      "classe  sexe\n",
      "1       1       0.340782\n",
      "        2       0.965278\n",
      "2       1       0.146199\n",
      "        2       0.886792\n",
      "3       1       0.152130\n",
      "        2       0.490741\n",
      "Name: survie, dtype: float64\n"
     ]
    }
   ],
   "source": [
    "#groupe3=data.groupby(['classe','sexe']) #scission des donnees selon la classe et le sexe\n",
    "#groupe30=data.groupby(['classe','sexe','survie'])\n",
    "#print(groupe30.get_group((1,1,1)).shape[0])\n",
    "#print(groupe30.get_group((1,1,0)).shape[0])\n",
    "##eff1=groupe30['survie'].count()\n",
    "##print(eff1)\n",
    "#total=groupe3['survie'].count()\n",
    "#print(total)\n",
    "\n",
    "eff=data.query('survie==1').groupby(['classe','sexe'])['survie'].count()\n",
    "total=                 data.groupby(['classe','sexe'])['survie'].count()\n",
    "\n",
    "print(eff/total)  "
   ]
  },
  {
   "cell_type": "markdown",
   "metadata": {},
   "source": [
    "**La solution -Tableaux croisés dynamiques- version \"Datascientist\"** sur [OpenClassrooms](https://openclassrooms.com/fr/courses/4452741-decouvrez-les-librairies-python-pour-la-data-science/5574866-manipulez-les-donnees-contenues-dans-vos-dataframes)."
   ]
  },
  {
   "cell_type": "code",
   "execution_count": 22,
   "metadata": {},
   "outputs": [
    {
     "data": {
      "text/html": [
       "<div>\n",
       "<style>\n",
       "    .dataframe thead tr:only-child th {\n",
       "        text-align: right;\n",
       "    }\n",
       "\n",
       "    .dataframe thead th {\n",
       "        text-align: left;\n",
       "    }\n",
       "\n",
       "    .dataframe tbody tr th {\n",
       "        vertical-align: top;\n",
       "    }\n",
       "</style>\n",
       "<table border=\"1\" class=\"dataframe\">\n",
       "  <thead>\n",
       "    <tr style=\"text-align: right;\">\n",
       "      <th>classe</th>\n",
       "      <th>1</th>\n",
       "      <th>2</th>\n",
       "      <th>3</th>\n",
       "    </tr>\n",
       "    <tr>\n",
       "      <th>sexe</th>\n",
       "      <th></th>\n",
       "      <th></th>\n",
       "      <th></th>\n",
       "    </tr>\n",
       "  </thead>\n",
       "  <tbody>\n",
       "    <tr>\n",
       "      <th>1</th>\n",
       "      <td>0.340782</td>\n",
       "      <td>0.146199</td>\n",
       "      <td>0.152130</td>\n",
       "    </tr>\n",
       "    <tr>\n",
       "      <th>2</th>\n",
       "      <td>0.965278</td>\n",
       "      <td>0.886792</td>\n",
       "      <td>0.490741</td>\n",
       "    </tr>\n",
       "  </tbody>\n",
       "</table>\n",
       "</div>"
      ],
      "text/plain": [
       "classe         1         2         3\n",
       "sexe                                \n",
       "1       0.340782  0.146199  0.152130\n",
       "2       0.965278  0.886792  0.490741"
      ]
     },
     "execution_count": 22,
     "metadata": {},
     "output_type": "execute_result"
    }
   ],
   "source": [
    "data.pivot_table('survie', index='sexe', columns='classe')"
   ]
  },
  {
   "cell_type": "code",
   "execution_count": null,
   "metadata": {},
   "outputs": [],
   "source": []
  },
  {
   "cell_type": "markdown",
   "metadata": {},
   "source": [
    "---"
   ]
  },
  {
   "cell_type": "markdown",
   "metadata": {},
   "source": [
    "**Remarque :** La gestion des données manquantes est souvent un point délicat. De nombreuses stratégies ont été élaborées, nous décrivons ici une possibilité à mettre en œuvre avec $\\texttt{pandas}$.\n",
    "\n",
    "Il est ainsi facile de supprimer toutes les observations présentant des données manquantes lorsque celles-ci sont peu nombreuses et majoritairement regroupées sur certaines lignes ou colonnes.\n",
    "- les individus ou lignes $\\quad \\texttt{data.dropna(axis=0)}$\n",
    "- les variables ou colonnes $\\,\\texttt{data.dropna(axis=1)}$"
   ]
  },
  {
   "cell_type": "code",
   "execution_count": null,
   "metadata": {},
   "outputs": [],
   "source": [
    "#'any' supprime lignes/colonnes de chaque valeur Null et 'all' seulement si toutes les valeurs Null\n",
    "groupe4=data.dropna(axis=0, how='any') \n",
    "groupe4.shape"
   ]
  },
  {
   "cell_type": "code",
   "execution_count": null,
   "metadata": {},
   "outputs": [],
   "source": [
    "#Pour eviter de multiples affichages de longs tableaux\n",
    "#vous pouvez modifier cette option à votre guise\n",
    "#pandas.options.display.max_rows = 10\n",
    "groupe4"
   ]
  },
  {
   "cell_type": "markdown",
   "metadata": {},
   "source": [
    "---"
   ]
  },
  {
   "cell_type": "markdown",
   "metadata": {},
   "source": [
    "# Le «croisement» de deux tables \n",
    "  * sur la base du descripteur commun.\n",
    "  \n",
    "**Répondre à des requêtes et identifier les opérations utilisées à l'aide d'un tableur.**\n",
    "\n",
    "*Activité* sur la fréquentation des Musées de France"
   ]
  },
  {
   "cell_type": "code",
   "execution_count": 23,
   "metadata": {},
   "outputs": [
    {
     "data": {
      "text/html": [
       "<iframe src=\"https://data.opendatasoft.com/explore/embed/dataset/frequentation-des-musees-de-france@culture/table/?disjunctive.new_name&static=false&datasetcard=false\" width=\"800\" height=\"300\" frameborder=\"0\"></iframe>"
      ],
      "text/plain": [
       "<IPython.core.display.HTML object>"
      ]
     },
     "execution_count": 23,
     "metadata": {},
     "output_type": "execute_result"
    }
   ],
   "source": [
    "from IPython.display import HTML\n",
    "\n",
    "HTML('<iframe src=\"https://data.opendatasoft.com/explore/embed/dataset/frequentation-des-musees-de-france@culture/table/?disjunctive.new_name&static=false&datasetcard=false\" width=\"800\" height=\"300\" frameborder=\"0\"></iframe>')"
   ]
  },
  {
   "cell_type": "markdown",
   "metadata": {},
   "source": [
    "* Les [donnees](https://data.opendatasoft.com/explore/dataset/frequentation-des-musees-de-france@culture/download/?format=csv&timezone=Europe/Berlin&use_labels_for_header=true) sources sur la fréquentation des musées au format $\\texttt{csv}$ (sep=\";\") [https://data.opendatasoft.com/](https://data.opendatasoft.com/)\n",
    "* Les [sources](https://www.insee.fr/fr/statistiques/fichier/3545833/ensemble.xls) de l'[INSEE](https://www.insee.fr/fr/statistiques/3545833?sommaire=3292701) sur la population au format $\\texttt{xls}$.\n",
    "\n",
    "*Pour pouvoir fusionner des données provenant de deux fichiers différents, ceux-ci doivent convenablement être structurés...*\n",
    "\n",
    "**Pour répondre aux requètes**, le [classeur](http://lycee.lagrave.free.fr/SNTdata/TP/croisement_tables.xlsx) (format $\\texttt{xlsx}$) issu des données précédentes est disponible. "
   ]
  },
  {
   "cell_type": "markdown",
   "metadata": {},
   "source": [
    "**1. Quel musée a le plus petit nombre d'entrées ?**\n",
    "\n",
    "![musee1](http://lycee.lagrave.free.fr/SNTdata/TP/musee1.png)\n",
    "\n",
    "**2. Combien de musées sont dans la ville de Lyon ?**\n",
    "\n",
    "![musee2](http://lycee.lagrave.free.fr/SNTdata/TP/musee2.png)\n",
    "\n",
    "**3. Quel est le nombre d'habitants de la ville du musée Alpin ?**\n",
    "\n",
    "![musee3](http://lycee.lagrave.free.fr/SNTdata/TP/musee3.png)\n",
    "\n",
    "**4. Quelle est la somme des entrées des musées de Lyon ?**\n",
    "\n",
    "![musee4](http://lycee.lagrave.free.fr/SNTdata/TP/musee4.png)"
   ]
  },
  {
   "cell_type": "markdown",
   "metadata": {},
   "source": [
    "# Avec Pandas\n",
    "\n",
    "#### Importer un fichier Excel"
   ]
  },
  {
   "cell_type": "code",
   "execution_count": 24,
   "metadata": {},
   "outputs": [
    {
     "data": {
      "text/plain": [
       "['frequentation', 'habitants']"
      ]
     },
     "execution_count": 24,
     "metadata": {},
     "output_type": "execute_result"
    }
   ],
   "source": [
    "src = pandas.ExcelFile('http://lycee.lagrave.free.fr/SNTdata/TP/croisement_tables.xlsx') \n",
    "src.sheet_names"
   ]
  },
  {
   "cell_type": "code",
   "execution_count": 25,
   "metadata": {},
   "outputs": [
    {
     "data": {
      "text/html": [
       "<div>\n",
       "<style>\n",
       "    .dataframe thead tr:only-child th {\n",
       "        text-align: right;\n",
       "    }\n",
       "\n",
       "    .dataframe thead th {\n",
       "        text-align: left;\n",
       "    }\n",
       "\n",
       "    .dataframe tbody tr th {\n",
       "        vertical-align: top;\n",
       "    }\n",
       "</style>\n",
       "<table border=\"1\" class=\"dataframe\">\n",
       "  <thead>\n",
       "    <tr style=\"text-align: right;\">\n",
       "      <th></th>\n",
       "      <th>NOM DU MUSEE</th>\n",
       "      <th>VILLE</th>\n",
       "      <th>ENTREES</th>\n",
       "    </tr>\n",
       "  </thead>\n",
       "  <tbody>\n",
       "    <tr>\n",
       "      <th>0</th>\n",
       "      <td>Musée d'Arts Africains, Océaniens, Amérindiens</td>\n",
       "      <td>MARSEILLE</td>\n",
       "      <td>0.0</td>\n",
       "    </tr>\n",
       "    <tr>\n",
       "      <th>1</th>\n",
       "      <td>Musée de la Faïence</td>\n",
       "      <td>MARSEILLE</td>\n",
       "      <td>0.0</td>\n",
       "    </tr>\n",
       "    <tr>\n",
       "      <th>2</th>\n",
       "      <td>Musée de la Mode</td>\n",
       "      <td>MARSEILLE</td>\n",
       "      <td>0.0</td>\n",
       "    </tr>\n",
       "    <tr>\n",
       "      <th>3</th>\n",
       "      <td>Musée de l'Hôtel d'Espeyran</td>\n",
       "      <td>MONTPELLIER</td>\n",
       "      <td>0.0</td>\n",
       "    </tr>\n",
       "    <tr>\n",
       "      <th>4</th>\n",
       "      <td>Musée Quentovic</td>\n",
       "      <td>ETAPLES-SUR-MER</td>\n",
       "      <td>0.0</td>\n",
       "    </tr>\n",
       "    <tr>\n",
       "      <th>5</th>\n",
       "      <td>Atelier Musée Louis Leygue</td>\n",
       "      <td>NAVEIL</td>\n",
       "      <td>51.0</td>\n",
       "    </tr>\n",
       "    <tr>\n",
       "      <th>6</th>\n",
       "      <td>Musée Municipal</td>\n",
       "      <td>VAYRAC</td>\n",
       "      <td>106.0</td>\n",
       "    </tr>\n",
       "    <tr>\n",
       "      <th>7</th>\n",
       "      <td>Musée Municipal de Civray</td>\n",
       "      <td>CIVRAY</td>\n",
       "      <td>142.0</td>\n",
       "    </tr>\n",
       "    <tr>\n",
       "      <th>8</th>\n",
       "      <td>Musée Charles-Louis Philippe</td>\n",
       "      <td>CERILLY</td>\n",
       "      <td>185.0</td>\n",
       "    </tr>\n",
       "    <tr>\n",
       "      <th>9</th>\n",
       "      <td>Cabinet des Estampes et des Dessins</td>\n",
       "      <td>STRASBOURG</td>\n",
       "      <td>217.0</td>\n",
       "    </tr>\n",
       "  </tbody>\n",
       "</table>\n",
       "</div>"
      ],
      "text/plain": [
       "                                     NOM DU MUSEE            VILLE  ENTREES\n",
       "0  Musée d'Arts Africains, Océaniens, Amérindiens        MARSEILLE      0.0\n",
       "1                             Musée de la Faïence        MARSEILLE      0.0\n",
       "2                                Musée de la Mode        MARSEILLE      0.0\n",
       "3                     Musée de l'Hôtel d'Espeyran      MONTPELLIER      0.0\n",
       "4                                 Musée Quentovic  ETAPLES-SUR-MER      0.0\n",
       "5                      Atelier Musée Louis Leygue           NAVEIL     51.0\n",
       "6                                 Musée Municipal           VAYRAC    106.0\n",
       "7                       Musée Municipal de Civray           CIVRAY    142.0\n",
       "8                    Musée Charles-Louis Philippe          CERILLY    185.0\n",
       "9             Cabinet des Estampes et des Dessins       STRASBOURG    217.0"
      ]
     },
     "execution_count": 25,
     "metadata": {},
     "output_type": "execute_result"
    }
   ],
   "source": [
    "df1 = pandas.read_excel(src, sheet_name=\"frequentation\")\n",
    "df1.head(10)"
   ]
  },
  {
   "cell_type": "code",
   "execution_count": null,
   "metadata": {},
   "outputs": [],
   "source": [
    "#df2 = pandas.read_excel(src, sheet_name=\"habitants\")\n",
    "#df2.head()"
   ]
  },
  {
   "cell_type": "code",
   "execution_count": 26,
   "metadata": {},
   "outputs": [
    {
     "data": {
      "text/html": [
       "<div>\n",
       "<style>\n",
       "    .dataframe thead tr:only-child th {\n",
       "        text-align: right;\n",
       "    }\n",
       "\n",
       "    .dataframe thead th {\n",
       "        text-align: left;\n",
       "    }\n",
       "\n",
       "    .dataframe tbody tr th {\n",
       "        vertical-align: top;\n",
       "    }\n",
       "</style>\n",
       "<table border=\"1\" class=\"dataframe\">\n",
       "  <thead>\n",
       "    <tr style=\"text-align: right;\">\n",
       "      <th></th>\n",
       "      <th>VILLE</th>\n",
       "      <th>REGION</th>\n",
       "      <th>HABITANTS</th>\n",
       "    </tr>\n",
       "  </thead>\n",
       "  <tbody>\n",
       "    <tr>\n",
       "      <th>0</th>\n",
       "      <td>ABBEVILLE</td>\n",
       "      <td>HAUTS-DE-France</td>\n",
       "      <td>23278</td>\n",
       "    </tr>\n",
       "    <tr>\n",
       "      <th>1</th>\n",
       "      <td>AGDE</td>\n",
       "      <td>OCCITANIE</td>\n",
       "      <td>26946</td>\n",
       "    </tr>\n",
       "    <tr>\n",
       "      <th>2</th>\n",
       "      <td>AGEN</td>\n",
       "      <td>NOUVELLE-AQUITAINE</td>\n",
       "      <td>33988</td>\n",
       "    </tr>\n",
       "    <tr>\n",
       "      <th>3</th>\n",
       "      <td>AIGUILLES</td>\n",
       "      <td>PROVENCE-ALPES-COTE D'AZUR</td>\n",
       "      <td>425</td>\n",
       "    </tr>\n",
       "    <tr>\n",
       "      <th>4</th>\n",
       "      <td>AIGUINES</td>\n",
       "      <td>PROVENCE-ALPES-COTE D'AZUR</td>\n",
       "      <td>271</td>\n",
       "    </tr>\n",
       "  </tbody>\n",
       "</table>\n",
       "</div>"
      ],
      "text/plain": [
       "       VILLE                      REGION  HABITANTS\n",
       "0  ABBEVILLE             HAUTS-DE-France      23278\n",
       "1       AGDE                   OCCITANIE      26946\n",
       "2       AGEN          NOUVELLE-AQUITAINE      33988\n",
       "3  AIGUILLES  PROVENCE-ALPES-COTE D'AZUR        425\n",
       "4   AIGUINES  PROVENCE-ALPES-COTE D'AZUR        271"
      ]
     },
     "execution_count": 26,
     "metadata": {},
     "output_type": "execute_result"
    }
   ],
   "source": [
    "df_map = pandas.read_excel(src, sheetname=None) \n",
    "df1=df_map[\"frequentation\"]\n",
    "df2=df_map[\"habitants\"]\n",
    "df2.head()"
   ]
  },
  {
   "cell_type": "markdown",
   "metadata": {},
   "source": [
    "**2. Combien de musées sont dans la ville de Lyon ?**"
   ]
  },
  {
   "cell_type": "code",
   "execution_count": 27,
   "metadata": {},
   "outputs": [
    {
     "data": {
      "text/html": [
       "<div>\n",
       "<style>\n",
       "    .dataframe thead tr:only-child th {\n",
       "        text-align: right;\n",
       "    }\n",
       "\n",
       "    .dataframe thead th {\n",
       "        text-align: left;\n",
       "    }\n",
       "\n",
       "    .dataframe tbody tr th {\n",
       "        vertical-align: top;\n",
       "    }\n",
       "</style>\n",
       "<table border=\"1\" class=\"dataframe\">\n",
       "  <thead>\n",
       "    <tr style=\"text-align: right;\">\n",
       "      <th></th>\n",
       "      <th>NOM DU MUSEE</th>\n",
       "      <th>VILLE</th>\n",
       "      <th>ENTREES</th>\n",
       "    </tr>\n",
       "  </thead>\n",
       "  <tbody>\n",
       "    <tr>\n",
       "      <th>361</th>\n",
       "      <td>Musée des Sapeurs-Pompiers de Lyon</td>\n",
       "      <td>LYON</td>\n",
       "      <td>9248.0</td>\n",
       "    </tr>\n",
       "    <tr>\n",
       "      <th>629</th>\n",
       "      <td>Musée de l'Imprimerie et de la Communication G...</td>\n",
       "      <td>LYON</td>\n",
       "      <td>26478.0</td>\n",
       "    </tr>\n",
       "    <tr>\n",
       "      <th>781</th>\n",
       "      <td>Centre d'Histoire de la Résistance et de la Dé...</td>\n",
       "      <td>LYON</td>\n",
       "      <td>59935.0</td>\n",
       "    </tr>\n",
       "    <tr>\n",
       "      <th>785</th>\n",
       "      <td>Musée Historique des Tissus - Musée des Arts D...</td>\n",
       "      <td>LYON</td>\n",
       "      <td>60391.0</td>\n",
       "    </tr>\n",
       "    <tr>\n",
       "      <th>824</th>\n",
       "      <td>Musées Gadagne</td>\n",
       "      <td>LYON</td>\n",
       "      <td>79449.0</td>\n",
       "    </tr>\n",
       "    <tr>\n",
       "      <th>847</th>\n",
       "      <td>Musée de la Civilisation Gallo-Romaine</td>\n",
       "      <td>LYON</td>\n",
       "      <td>94476.0</td>\n",
       "    </tr>\n",
       "    <tr>\n",
       "      <th>869</th>\n",
       "      <td>Musée d'Art Contemporain de Lyon</td>\n",
       "      <td>LYON</td>\n",
       "      <td>135000.0</td>\n",
       "    </tr>\n",
       "    <tr>\n",
       "      <th>914</th>\n",
       "      <td>Musée des Beaux-Arts</td>\n",
       "      <td>LYON</td>\n",
       "      <td>334459.0</td>\n",
       "    </tr>\n",
       "    <tr>\n",
       "      <th>926</th>\n",
       "      <td>Muséum d'histoire naturelle - Musée des Conflu...</td>\n",
       "      <td>LYON</td>\n",
       "      <td>767509.0</td>\n",
       "    </tr>\n",
       "    <tr>\n",
       "      <th>1050</th>\n",
       "      <td>Musée des Hospices Civils de Lyon</td>\n",
       "      <td>LYON</td>\n",
       "      <td>NaN</td>\n",
       "    </tr>\n",
       "  </tbody>\n",
       "</table>\n",
       "</div>"
      ],
      "text/plain": [
       "                                           NOM DU MUSEE VILLE   ENTREES\n",
       "361                  Musée des Sapeurs-Pompiers de Lyon  LYON    9248.0\n",
       "629   Musée de l'Imprimerie et de la Communication G...  LYON   26478.0\n",
       "781   Centre d'Histoire de la Résistance et de la Dé...  LYON   59935.0\n",
       "785   Musée Historique des Tissus - Musée des Arts D...  LYON   60391.0\n",
       "824                                      Musées Gadagne  LYON   79449.0\n",
       "847              Musée de la Civilisation Gallo-Romaine  LYON   94476.0\n",
       "869                    Musée d'Art Contemporain de Lyon  LYON  135000.0\n",
       "914                                Musée des Beaux-Arts  LYON  334459.0\n",
       "926   Muséum d'histoire naturelle - Musée des Conflu...  LYON  767509.0\n",
       "1050                  Musée des Hospices Civils de Lyon  LYON       NaN"
      ]
     },
     "execution_count": 27,
     "metadata": {},
     "output_type": "execute_result"
    }
   ],
   "source": [
    "df1.loc[df1['VILLE']=='LYON',:]#.count()"
   ]
  },
  {
   "cell_type": "markdown",
   "metadata": {},
   "source": [
    "La fonction $\\texttt{pandas.merge}$  va automatiquement reconnaître que la colonne VILLE est commune aux deux Dataframes, et va l'utiliser comme condition de [jointure](https://openclassrooms.com/fr/courses/4452741-decouvrez-les-librairies-python-pour-la-data-science/5559346-effectuez-les-operations-dalgebre-relationnelle-sur-les-dataframes).\n",
    "\n",
    "**3. Quel est le nombre d'habitants de la ville du musée Alpin ?**"
   ]
  },
  {
   "cell_type": "code",
   "execution_count": 28,
   "metadata": {},
   "outputs": [
    {
     "data": {
      "text/html": [
       "<div>\n",
       "<style>\n",
       "    .dataframe thead tr:only-child th {\n",
       "        text-align: right;\n",
       "    }\n",
       "\n",
       "    .dataframe thead th {\n",
       "        text-align: left;\n",
       "    }\n",
       "\n",
       "    .dataframe tbody tr th {\n",
       "        vertical-align: top;\n",
       "    }\n",
       "</style>\n",
       "<table border=\"1\" class=\"dataframe\">\n",
       "  <thead>\n",
       "    <tr style=\"text-align: right;\">\n",
       "      <th></th>\n",
       "      <th>NOM DU MUSEE</th>\n",
       "      <th>VILLE</th>\n",
       "      <th>ENTREES</th>\n",
       "      <th>REGION</th>\n",
       "      <th>HABITANTS</th>\n",
       "    </tr>\n",
       "  </thead>\n",
       "  <tbody>\n",
       "    <tr>\n",
       "      <th>947</th>\n",
       "      <td>Musée Alpin</td>\n",
       "      <td>CHAMONIX</td>\n",
       "      <td>35747.0</td>\n",
       "      <td>AUVERGNE-RHONE-ALPES</td>\n",
       "      <td>8906</td>\n",
       "    </tr>\n",
       "  </tbody>\n",
       "</table>\n",
       "</div>"
      ],
      "text/plain": [
       "    NOM DU MUSEE     VILLE  ENTREES                REGION  HABITANTS\n",
       "947  Musée Alpin  CHAMONIX  35747.0  AUVERGNE-RHONE-ALPES       8906"
      ]
     },
     "execution_count": 28,
     "metadata": {},
     "output_type": "execute_result"
    }
   ],
   "source": [
    "df3 = pandas.merge(df1, df2)\n",
    "df3.loc[df3['NOM DU MUSEE']=='Musée Alpin',:]\n",
    "##liste individus avec \n",
    "#lignes => filtre 'NOM DU MUSEE'='Musée Alpin' #colonnes = : (toutes les colonnes)"
   ]
  },
  {
   "cell_type": "markdown",
   "metadata": {},
   "source": [
    "**4. Quelle est la somme des entrées des musées de Lyon ?**"
   ]
  },
  {
   "cell_type": "code",
   "execution_count": 29,
   "metadata": {},
   "outputs": [
    {
     "data": {
      "text/html": [
       "<div>\n",
       "<style>\n",
       "    .dataframe thead tr:only-child th {\n",
       "        text-align: right;\n",
       "    }\n",
       "\n",
       "    .dataframe thead th {\n",
       "        text-align: left;\n",
       "    }\n",
       "\n",
       "    .dataframe tbody tr th {\n",
       "        vertical-align: top;\n",
       "    }\n",
       "</style>\n",
       "<table border=\"1\" class=\"dataframe\">\n",
       "  <thead>\n",
       "    <tr style=\"text-align: right;\">\n",
       "      <th></th>\n",
       "      <th>ENTREES</th>\n",
       "    </tr>\n",
       "    <tr>\n",
       "      <th>VILLE</th>\n",
       "      <th></th>\n",
       "    </tr>\n",
       "  </thead>\n",
       "  <tbody>\n",
       "    <tr>\n",
       "      <th>LYON</th>\n",
       "      <td>1566945.0</td>\n",
       "    </tr>\n",
       "  </tbody>\n",
       "</table>\n",
       "</div>"
      ],
      "text/plain": [
       "         ENTREES\n",
       "VILLE           \n",
       "LYON   1566945.0"
      ]
     },
     "execution_count": 29,
     "metadata": {},
     "output_type": "execute_result"
    }
   ],
   "source": [
    "df1.loc[df1['VILLE']=='LYON',:].groupby('VILLE').sum()"
   ]
  }
 ],
 "metadata": {
  "colab": {
   "collapsed_sections": [],
   "name": "Ehrenfest.ipynb",
   "provenance": [],
   "version": "0.3.2"
  },
  "kernelspec": {
   "display_name": "Python 3",
   "language": "python",
   "name": "python3"
  },
  "language_info": {
   "codemirror_mode": {
    "name": "ipython",
    "version": 3
   },
   "file_extension": ".py",
   "mimetype": "text/x-python",
   "name": "python",
   "nbconvert_exporter": "python",
   "pygments_lexer": "ipython3",
   "version": "3.6.1"
  }
 },
 "nbformat": 4,
 "nbformat_minor": 2
}
